{
 "cells": [
  {
   "cell_type": "code",
   "id": "initial_id",
   "metadata": {
    "collapsed": true,
    "ExecuteTime": {
     "end_time": "2025-05-24T15:34:35.711927Z",
     "start_time": "2025-05-24T15:34:35.708904Z"
    }
   },
   "source": [
    "import re\n",
    "from typing import Any"
   ],
   "outputs": [],
   "execution_count": 1
  },
  {
   "metadata": {
    "ExecuteTime": {
     "end_time": "2025-05-24T15:34:35.826982Z",
     "start_time": "2025-05-24T15:34:35.824845Z"
    }
   },
   "cell_type": "code",
   "source": [
    "def parse_expression(expr: str):\n",
    "    \"\"\"Parse expressions like $.foo == \"some value\" into field name and comparison value.\"\"\"\n",
    "    # Match pattern like $.fieldname == \"value\" or $.fieldname == 123\n",
    "    pattern = r'\\$\\.([\\w\\.]+)\\s*(==|!=|>|<|>=|<=)\\s*(.+)'\n",
    "    match = re.match(pattern, expr.strip())\n",
    "\n",
    "    if not match:\n",
    "        raise ValueError(f\"Invalid expression format: {expr}\")\n",
    "\n",
    "    field, operator, value = match.groups()\n",
    "\n",
    "    # Try to evaluate the value part (handles quoted strings, numbers, etc.)\n",
    "    try:\n",
    "        evaluated_value = eval(value)\n",
    "    except:\n",
    "        evaluated_value = value  # Keep as string if eval fails\n",
    "\n",
    "    return field, operator, evaluated_value"
   ],
   "id": "125f5cce67a8e087",
   "outputs": [],
   "execution_count": 2
  },
  {
   "metadata": {
    "ExecuteTime": {
     "end_time": "2025-05-24T15:34:35.837404Z",
     "start_time": "2025-05-24T15:34:35.835165Z"
    }
   },
   "cell_type": "code",
   "source": [
    "test_expressions = [\n",
    "    '$.foo == \"some value\"',\n",
    "    '$.nested.field == 123',\n",
    "    '$.active == True',\n",
    "    '$.count > 5'\n",
    "]\n",
    "\n",
    "for expr in test_expressions:\n",
    "    field, op, value = parse_expression(expr)\n",
    "    print(f\"Expression: {expr}\")\n",
    "    print(f\"  Field: {field}\")\n",
    "    print(f\"  Operator: {op}\")\n",
    "    print(f\"  Value: {value} (type: {type(value).__name__})\")\n",
    "    print()"
   ],
   "id": "d994efd623dcb4f4",
   "outputs": [
    {
     "name": "stdout",
     "output_type": "stream",
     "text": [
      "Expression: $.foo == \"some value\"\n",
      "  Field: foo\n",
      "  Operator: ==\n",
      "  Value: some value (type: str)\n",
      "\n",
      "Expression: $.nested.field == 123\n",
      "  Field: nested.field\n",
      "  Operator: ==\n",
      "  Value: 123 (type: int)\n",
      "\n",
      "Expression: $.active == True\n",
      "  Field: active\n",
      "  Operator: ==\n",
      "  Value: True (type: bool)\n",
      "\n",
      "Expression: $.count > 5\n",
      "  Field: count\n",
      "  Operator: >\n",
      "  Value: 5 (type: int)\n",
      "\n"
     ]
    }
   ],
   "execution_count": 3
  },
  {
   "metadata": {
    "ExecuteTime": {
     "end_time": "2025-05-24T15:34:35.847800Z",
     "start_time": "2025-05-24T15:34:35.844687Z"
    }
   },
   "cell_type": "code",
   "source": [
    "def evaluate_expression(expr: str, obj: dict[str, Any]) -> bool:\n",
    "    \"\"\"Evaluate expressions like $.foo == \"some value\" against an object.\"\"\"\n",
    "    # Check if pydash is installed\n",
    "    try:\n",
    "        import pydash\n",
    "    except ImportError:\n",
    "        !pip install pydash\n",
    "        import pydash\n",
    "\n",
    "    field, operator, value = parse_expression(expr)\n",
    "    field_value = pydash.get(obj, field)\n",
    "\n",
    "    if operator == \"==\":\n",
    "        return field_value == value\n",
    "    elif operator == \"!=\":\n",
    "        return field_value != value\n",
    "    elif operator == \">\":\n",
    "        return field_value > value\n",
    "    elif operator == \"<\":\n",
    "        return field_value < value\n",
    "    elif operator == \">=\":\n",
    "        return field_value >= value\n",
    "    elif operator == \"<=\":\n",
    "        return field_value <= value\n",
    "    else:\n",
    "        raise ValueError(f\"Unsupported operator: {operator}\")"
   ],
   "id": "9a29552486e05ba3",
   "outputs": [],
   "execution_count": 4
  },
  {
   "metadata": {
    "ExecuteTime": {
     "end_time": "2025-05-24T15:34:35.863897Z",
     "start_time": "2025-05-24T15:34:35.861139Z"
    }
   },
   "cell_type": "code",
   "source": [
    "test_object = {\n",
    "    \"foo\": \"some value\",\n",
    "    \"nested\": {\"field\": 123},\n",
    "    \"active\": True,\n",
    "    \"count\": 10\n",
    "}\n",
    "\n",
    "for expr in test_expressions:\n",
    "    result = evaluate_expression(expr, test_object)\n",
    "    print(f\"Expression: {expr}\")\n",
    "    print(f\"  Result: {result"
   ],
   "id": "6e35a72eb7b6fd44",
   "outputs": [
    {
     "ename": "SyntaxError",
     "evalue": "incomplete input (525760041.py, line 11)",
     "output_type": "error",
     "traceback": [
      "  \u001B[36mCell\u001B[39m\u001B[36m \u001B[39m\u001B[32mIn[5]\u001B[39m\u001B[32m, line 11\u001B[39m\n\u001B[31m    \u001B[39m\u001B[31mprint(f\"  Result: {result\u001B[39m\n                             ^\n\u001B[31mSyntaxError\u001B[39m\u001B[31m:\u001B[39m incomplete input\n"
     ]
    }
   ],
   "execution_count": 5
  },
  {
   "metadata": {},
   "cell_type": "code",
   "outputs": [],
   "execution_count": null,
   "source": [
    "class Expr:\n",
    "    def __init__(self, args: str):\n",
    "        self.args = args\n",
    "\n",
    "    def test(self, o: dict[str, Any]) -> bool:\n",
    "        \"\"\"\n",
    "        Evaluates expressions like '$.foo == \"some value\"' against the provided object.\n",
    "        Also supports logical operators AND and OR for combining conditions:\n",
    "        '$.foo == \"value\" AND $.count > 5'\n",
    "        '$.status == \"active\" OR $.role == \"admin\"'\n",
    "\n",
    "        The $ symbol represents the root of the object being tested.\n",
    "        Supported comparison operators: ==, !=, >, <, >=, <=\n",
    "        Supported logical operators: AND, OR (case insensitive)\n",
    "        \"\"\"\n",
    "        # Check if pydash is installed\n",
    "        try:\n",
    "            import pydash\n",
    "        except ImportError:\n",
    "            !pip install pydash\n",
    "            import pydash\n",
    "\n",
    "        # Split on AND/OR (but not inside quotes)\n",
    "        def split_on_logical_ops(expr):\n",
    "            parts = []\n",
    "            operators = []\n",
    "            last_pos = 0\n",
    "            in_quotes = False\n",
    "\n",
    "            for i, char in enumerate(expr):\n",
    "                if char in ['\"', \"'\"]:\n",
    "                    in_quotes = not in_quotes\n",
    "\n",
    "                if not in_quotes and i + 5 <= len(expr):\n",
    "                    if expr[i:i+5].upper() == ' AND ':\n",
    "                        parts.append(expr[last_pos:i])\n",
    "                        operators.append('AND')\n",
    "                        last_pos = i + 5\n",
    "                    elif expr[i:i+4].upper() == ' OR ':\n",
    "                        parts.append(expr[last_pos:i])\n",
    "                        operators.append('OR')\n",
    "                        last_pos = i + 4\n",
    "\n",
    "            parts.append(expr[last_pos:])\n",
    "            return parts, operators\n",
    "\n",
    "        # Evaluate a single comparison expression\n",
    "        def evaluate_comparison(expr):\n",
    "            # Parse expression: $.fieldpath operator value\n",
    "            pattern = r'\\$\\.([\\w\\.]+)\\s*(==|!=|>|<|>=|<=)\\s*(.+)'\n",
    "            match = re.match(pattern, expr.strip())\n",
    "\n",
    "            if not match:\n",
    "                raise ValueError(f\"Invalid expression format: {expr}\")\n",
    "\n",
    "            field, operator, value = match.groups()\n",
    "\n",
    "            # Try to evaluate the value part (handles quoted strings, numbers, etc.)\n",
    "            try:\n",
    "                evaluated_value = eval(value, {\"__builtins__\": {}}, {})\n",
    "            except:\n",
    "                evaluated_value = value  # Keep as string if eval fails\n",
    "\n",
    "            # Get the field value from the object\n",
    "            field_value = pydash.get(o, field)\n",
    "\n",
    "            # Apply the operator\n",
    "            if operator == \"==\":\n",
    "                return field_value == evaluated_value\n",
    "            elif operator == \"!=\":\n",
    "                return field_value != evaluated_value\n",
    "            elif operator == \">\":\n",
    "                return field_value > evaluated_value\n",
    "            elif operator == \"<\":\n",
    "                return field_value < evaluated_value\n",
    "            elif operator == \">=\":\n",
    "                return field_value >= evaluated_value\n",
    "            elif operator == \"<=\":\n",
    "                return field_value <= evaluated_value\n",
    "            else:\n",
    "                raise ValueError(f\"Unsupported operator: {operator}\")\n",
    "\n",
    "        # If there are no logical operators, evaluate as a simple expression\n",
    "        if ' AND ' not in self.args.upper() and ' OR ' not in self.args.upper():\n",
    "            return evaluate_comparison(self.args)\n",
    "\n",
    "        # Split the expression by logical operators\n",
    "        parts, operators = split_on_logical_ops(self.args)\n",
    "\n",
    "        # Evaluate the first part\n",
    "        result = evaluate_comparison(parts[0])\n",
    "\n",
    "        # Apply each logical operator in sequence\n",
    "        for i, op in enumerate(operators):\n",
    "            if op == 'AND':\n",
    "                result = result and evaluate_comparison(parts[i+1])\n",
    "                # Short-circuit evaluation - if already False, no need to continue with AND\n",
    "                if not result:\n",
    "                    break\n",
    "            elif op == 'OR':\n",
    "                result = result or evaluate_comparison(parts[i+1])\n",
    "                # Short-circuit evaluation - if already True, no need to continue with OR\n",
    "                if result and (i+1 < len(operators) and operators[i+1] == 'OR'):\n",
    "                    continue\n",
    "\n",
    "        return result"
   ],
   "id": "521f421b429a6324"
  },
  {
   "metadata": {},
   "cell_type": "code",
   "outputs": [],
   "execution_count": null,
   "source": [
    "expr_instance = Expr('$.foo == \"some value\"')\n",
    "result = expr_instance.test(test_object)\n",
    "print(f\"Expression: {expr_instance.args}\")\n",
    "print(f\"Result: {result}\")\n",
    "\n",
    "expr_instance2 = Expr('$.count > 5')\n",
    "result2 = expr_instance2.test(test_object)\n",
    "print(f\"Expression: {expr_instance2.args}\")\n",
    "print(f\"Result: {result2}\")"
   ],
   "id": "4e564207506037f2"
  },
  {
   "metadata": {},
   "cell_type": "code",
   "outputs": [],
   "execution_count": null,
   "source": [
    "test_object_extended = {\n",
    "    \"foo\": \"some value\",\n",
    "    \"nested\": {\"field\": 123},\n",
    "    \"active\": True,\n",
    "    \"count\": 10,\n",
    "    \"role\": \"user\",\n",
    "    \"permissions\": [\"read\", \"write\"]\n",
    "}\n",
    "\n",
    "print(\"\\nTesting AND operator:\")\n",
    "expr_and = Expr('$.foo == \"some value\" AND $.count > 5')\n",
    "result_and = expr_and.test(test_object_extended)\n",
    "print(f\"Expression: {expr_and.args}\")\n",
    "print(f\"Result: {result_and}\")  # Should be True\n",
    "\n",
    "expr_and_false = Expr('$.foo == \"some value\" AND $.count < 5')\n",
    "result_and_false = expr_and_false.test(test_object_extended)\n",
    "print(f\"Expression: {expr_and_false.args}\")\n",
    "print(f\"Result: {result_and_false}\")  # Should be False\n",
    "\n",
    "print(\"\\nTesting OR operator:\")\n",
    "expr_or = Expr('$.role == \"admin\" OR $.count > 5')\n",
    "result_or = expr_or.test(test_object_extended)\n",
    "print(f\"Expression: {expr_or.args}\")\n",
    "print(f\"Result: {result_or}\")  # Should be True\n",
    "\n",
    "expr_or_false = Expr('$.role == \"admin\" OR $.count < 5')\n",
    "result_or_false = expr_or_false.test(test_object_extended)\n",
    "print(f\"Expression: {expr_or_false.args}\")\n",
    "print(f\"Result: {result_or_false}\")  # Should be False\n",
    "\n",
    "print(\"\\nTesting multiple operators:\")\n",
    "expr_complex = Expr('$.foo == \"some value\" AND $.role == \"admin\" OR $.count > 5')\n",
    "result_complex = expr_complex.test(test_object_extended)\n",
    "print(f\"Expression: {expr_complex.args}\")\n",
    "print(f\"Result: {result_complex}\")  # Should be True"
   ],
   "id": "5c400ecb51e13c62"
  }
 ],
 "metadata": {
  "kernelspec": {
   "display_name": "Python 3",
   "language": "python",
   "name": "python3"
  },
  "language_info": {
   "codemirror_mode": {
    "name": "ipython",
    "version": 2
   },
   "file_extension": ".py",
   "mimetype": "text/x-python",
   "name": "python",
   "nbconvert_exporter": "python",
   "pygments_lexer": "ipython2",
   "version": "2.7.6"
  }
 },
 "nbformat": 4,
 "nbformat_minor": 5
}
